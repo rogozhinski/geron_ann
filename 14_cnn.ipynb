{
 "cells": [
  {
   "cell_type": "code",
   "execution_count": 28,
   "metadata": {},
   "outputs": [],
   "source": [
    "import tensorflow as tf\n",
    "from tensorflow import keras\n",
    "import pandas as pd\n",
    "import numpy as np\n",
    "import pickle\n",
    "import matplotlib.pyplot as plt\n",
    "import matplotlib as mpl\n",
    "\n",
    "from sklearn.model_selection import train_test_split"
   ]
  },
  {
   "cell_type": "code",
   "execution_count": 4,
   "metadata": {},
   "outputs": [],
   "source": [
    "(X_train_full, y_train_full), (X_test, y_test) = keras.datasets.fashion_mnist.load_data()"
   ]
  },
  {
   "cell_type": "code",
   "execution_count": 5,
   "metadata": {},
   "outputs": [],
   "source": [
    "X_train, X_valid, y_train, y_valid = train_test_split(X_train_full, y_train_full,\n",
    "                                                     random_state=666, test_size=0.2)"
   ]
  },
  {
   "cell_type": "code",
   "execution_count": 15,
   "metadata": {},
   "outputs": [
    {
     "name": "stdout",
     "output_type": "stream",
     "text": [
      "Model: \"model_3\"\n",
      "_________________________________________________________________\n",
      "Layer (type)                 Output Shape              Param #   \n",
      "=================================================================\n",
      "input_5 (InputLayer)         [(None, 28, 28, 1)]       0         \n",
      "_________________________________________________________________\n",
      "conv2d_13 (Conv2D)           (None, 28, 28, 20)        740       \n",
      "_________________________________________________________________\n",
      "max_pooling2d_13 (MaxPooling (None, 14, 14, 20)        0         \n",
      "_________________________________________________________________\n",
      "lambda (Lambda)              (None, 14, 14, 20)        0         \n",
      "_________________________________________________________________\n",
      "conv2d_14 (Conv2D)           (None, 14, 14, 50)        25050     \n",
      "_________________________________________________________________\n",
      "max_pooling2d_14 (MaxPooling (None, 7, 7, 50)          0         \n",
      "_________________________________________________________________\n",
      "lambda_1 (Lambda)            (None, 7, 7, 50)          0         \n",
      "_________________________________________________________________\n",
      "conv2d_15 (Conv2D)           (None, 7, 7, 100)         80100     \n",
      "_________________________________________________________________\n",
      "max_pooling2d_15 (MaxPooling (None, 3, 3, 100)         0         \n",
      "_________________________________________________________________\n",
      "lambda_2 (Lambda)            (None, 3, 3, 100)         0         \n",
      "_________________________________________________________________\n",
      "conv2d_16 (Conv2D)           (None, 3, 3, 200)         80200     \n",
      "_________________________________________________________________\n",
      "max_pooling2d_16 (MaxPooling (None, 1, 1, 200)         0         \n",
      "_________________________________________________________________\n",
      "flatten_3 (Flatten)          (None, 200)               0         \n",
      "_________________________________________________________________\n",
      "dense_9 (Dense)              (None, 200)               40200     \n",
      "_________________________________________________________________\n",
      "dropout_6 (Dropout)          (None, 200)               0         \n",
      "_________________________________________________________________\n",
      "dense_10 (Dense)             (None, 50)                10050     \n",
      "_________________________________________________________________\n",
      "dropout_7 (Dropout)          (None, 50)                0         \n",
      "_________________________________________________________________\n",
      "dense_11 (Dense)             (None, 10)                510       \n",
      "=================================================================\n",
      "Total params: 236,850\n",
      "Trainable params: 236,850\n",
      "Non-trainable params: 0\n",
      "_________________________________________________________________\n"
     ]
    }
   ],
   "source": [
    "inputs = keras.Input(shape=(28,28,1))\n",
    "x = keras.layers.Conv2D(filters=20, padding='same',\n",
    "                                 kernel_size=(6,6), \n",
    "                                 activation='relu')(inputs)\n",
    "x = keras.layers.MaxPool2D(pool_size=(2, 2))(x)\n",
    "x = keras.layers.Lambda(tf.nn.local_response_normalization)(x)\n",
    "x = keras.layers.Conv2D(filters=50, padding='same',\n",
    "                                 kernel_size=(5,5),\n",
    "                                 activation='relu')(x)\n",
    "x = keras.layers.MaxPool2D(pool_size=(2, 2))(x)\n",
    "x = keras.layers.Lambda(tf.nn.local_response_normalization)(x)\n",
    "x = keras.layers.Conv2D(filters=100, padding='same',\n",
    "                                 kernel_size=(4,4),\n",
    "                                 activation='relu')(x)\n",
    "x = keras.layers.MaxPool2D(pool_size=(2, 2))(x)\n",
    "x = keras.layers.Lambda(tf.nn.local_response_normalization)(x)\n",
    "x = keras.layers.Conv2D(filters=200, padding='same',\n",
    "                                 kernel_size=(2,2), \n",
    "                                 activation='relu')(x)\n",
    "x = keras.layers.MaxPool2D(pool_size=(2, 2))(x)\n",
    "x = keras.layers.Flatten()(x)\n",
    "x = keras.layers.Dense(units=200, activation='relu')(x)\n",
    "x = keras.layers.Dropout(0.5)(x)\n",
    "x = keras.layers.Dense(units=50, activation='relu')(x)\n",
    "x = keras.layers.Dropout(0.5)(x)\n",
    "outputs = keras.layers.Dense(units=10, activation='softmax')(x)\n",
    "\n",
    "model = tf.keras.Model(inputs=inputs, outputs=outputs)\n",
    "model.compile(loss=keras.losses.SparseCategoricalCrossentropy(), metrics=['accuracy'])\n",
    "model.summary()"
   ]
  },
  {
   "cell_type": "code",
   "execution_count": 16,
   "metadata": {},
   "outputs": [
    {
     "name": "stdout",
     "output_type": "stream",
     "text": [
      "Epoch 1/3\n",
      "1500/1500 [==============================] - 71s 47ms/step - loss: 1.0517 - accuracy: 0.6132 - val_loss: 0.3769 - val_accuracy: 0.8584\n",
      "Epoch 2/3\n",
      "1500/1500 [==============================] - 74s 49ms/step - loss: 0.4471 - accuracy: 0.8561 - val_loss: 0.3721 - val_accuracy: 0.8684\n",
      "Epoch 3/3\n",
      "1500/1500 [==============================] - 76s 51ms/step - loss: 0.4343 - accuracy: 0.8642 - val_loss: 0.4029 - val_accuracy: 0.8694\n"
     ]
    },
    {
     "data": {
      "text/plain": [
       "<tensorflow.python.keras.callbacks.History at 0x7f9b64adfca0>"
      ]
     },
     "execution_count": 16,
     "metadata": {},
     "output_type": "execute_result"
    }
   ],
   "source": [
    "model.fit(x=X_train, y=y_train, \n",
    "          validation_data=(X_valid, y_valid), epochs=3)"
   ]
  },
  {
   "cell_type": "code",
   "execution_count": 31,
   "metadata": {
    "collapsed": true
   },
   "outputs": [
    {
     "data": {
      "text/plain": [
       "array([[  0,   0,   0,   0,   0,   0,   0,   0,  24,  37, 190, 210, 153,\n",
       "         99, 142, 196, 217,  64,  33,   4,   0,   0,   0,   0,   0,   0,\n",
       "          0,   0],\n",
       "       [  0,   0,   0,   0,   0,   0,  57, 106, 112,  76, 109, 208, 247,\n",
       "        255, 249, 217, 138,  76, 115, 114, 100,   4,   0,   0,   0,   0,\n",
       "          0,   0],\n",
       "       [  0,   0,   0,   0,   0,  55, 115,  75,  69,  79,  48,  27,  42,\n",
       "         57,  46,  25,  49,  78,  73,  72, 100, 118,   4,   0,   0,   0,\n",
       "          0,   0],\n",
       "       [  0,   0,   0,   0,   0,  97,  69,  64,  67,  69,  73,  72,  64,\n",
       "         61,  67,  79,  78,  73,  73,  73,  58, 100,  57,   0,   0,   0,\n",
       "          0,   0],\n",
       "       [  0,   0,   0,   0,   0,  88,  69,  70,  67,  69,  70,  73,  79,\n",
       "         79,  76,  76,  75,  73,  72,  70,  73,  90,  75,   0,   0,   0,\n",
       "          0,   0],\n",
       "       [  0,   0,   0,   0,   7,  81,  78,  72,  67,  72,  72,  73,  76,\n",
       "         76,  75,  72,  72,  76,  69,  73,  82,  91,  81,   0,   0,   0,\n",
       "          0,   0],\n",
       "       [  0,   0,   0,   0,  16,  78,  91,  72,  61,  67,  67,  72,  76,\n",
       "         76,  72,  72,  70,  73,  72,  73,  93,  88,  81,   0,   0,   0,\n",
       "          0,   0],\n",
       "       [  0,   0,   0,   0,  21,  75,  91,  87,  63,  73,  75,  76,  79,\n",
       "         78,  75,  78,  76,  78,  82,  72, 102,  82,  75,   0,   0,   0,\n",
       "          0,   0],\n",
       "       [  0,   0,   0,   0,  24,  73,  97, 133,  58,  78,  81,  79,  81,\n",
       "         78,  75,  79,  81,  90,  73,  87, 141,  75,  75,   0,   0,   0,\n",
       "          0,   0],\n",
       "       [  0,   0,   0,   0,  28,  85,  78, 169,  76,  60,  75,  73,  76,\n",
       "         75,  72,  73,  81,  87,  54, 135, 151,  69,  87,   0,   0,   0,\n",
       "          0,   0],\n",
       "       [  0,   0,   0,   0,  27, 103,  63, 205, 120,  42,  76,  73,  75,\n",
       "         75,  75,  75,  76,  84,  33, 219, 159,  72,  93,   4,   0,   0,\n",
       "          0,   0],\n",
       "       [  0,   0,   0,   0,  25, 108,  90, 184,  57,  48,  73,  72,  73,\n",
       "         75,  79,  73,  76,  88,  34, 133, 156, 100,  82,  10,   0,   0,\n",
       "          0,   0],\n",
       "       [  0,   0,   0,   0,  36,  97, 127, 192, 105,  40,  78,  73,  75,\n",
       "         76,  78,  75,  70,  87,  19, 195, 162, 132,  69,  16,   0,   0,\n",
       "          0,   0],\n",
       "       [  0,   0,   0,   0,  48,  72, 159, 166,  96,  43,  78,  75,  76,\n",
       "         78,  76,  76,  70,  84,  40, 145, 171, 138,  57,  27,   0,   0,\n",
       "          0,   0],\n",
       "       [  0,   0,   0,   0,  58,  54, 168, 142,  46,  72,  75,  75,  75,\n",
       "         78,  76,  76,  73,  64,  66,  48, 165, 135,  54,  37,   0,   0,\n",
       "          0,   0],\n",
       "       [  0,   0,   0,   0,  60,  55, 195, 100,  43,  75,  73,  75,  75,\n",
       "         76,  78,  73,  78,  66,  67,  34, 162, 142,  57,  42,   0,   0,\n",
       "          0,   0],\n",
       "       [  0,   0,   0,   0,  60,  60, 199,  64,  40,  72,  73,  76,  75,\n",
       "         73,  78,  73,  70,  75,  67,  22, 141, 154,  60,  42,   0,   0,\n",
       "          0,   0],\n",
       "       [  0,   0,   0,   0,  64,  64, 181,  52,  40,  76,  75,  78,  76,\n",
       "         76,  76,  78,  67,  78,  78,  21, 118, 145,  64,  45,   0,   0,\n",
       "          0,   0],\n",
       "       [  0,   0,   0,   0,  63,  64, 187,  36,  52,  78,  75,  79,  78,\n",
       "         78,  73,  79,  73,  72,  84,  19,  81, 160,  66,  46,   0,   0,\n",
       "          0,   0],\n",
       "       [  0,   0,   0,   0,  58,  82, 205,   0,  58,  73,  81,  78,  76,\n",
       "         78,  78,  78,  81,  67,  81,  25,  49, 201,  58,  46,   0,   0,\n",
       "          0,   0],\n",
       "       [  0,   0,   0,   0,  54,  93, 204,   0,  61,  76,  79,  78,  75,\n",
       "         78,  78,  76,  81,  73,  78,  21,  42, 166,  61,  45,   0,   0,\n",
       "          0,   0],\n",
       "       [  0,   0,   0,   0,  51, 102, 207,   0,  66,  76,  75,  75,  76,\n",
       "         78,  78,  78,  78,  75,  75,  22,  43, 172,  67,  43,   0,   0,\n",
       "          0,   0],\n",
       "       [  0,   0,   0,   0,  49, 108, 214,   0,  67,  72,  72,  76,  79,\n",
       "         76,  78,  78,  76,  73,  75,  31,  46, 181,  70,  40,   0,   0,\n",
       "          0,   0],\n",
       "       [  0,   0,   0,   0,  49, 115, 175,   0,  67,  69,  75,  73,  75,\n",
       "         75,  75,  75,  73,  69,  72,  36,  48, 183,  70,  39,   0,   0,\n",
       "          0,   0],\n",
       "       [  0,   0,   0,   0,  49, 127, 168,   0,  99,  97,  97,  96,  94,\n",
       "         99,  93,  96,  99,  97, 108,  54,  40, 187,  81,  33,   0,   0,\n",
       "          0,   0],\n",
       "       [  0,   0,   0,   0,  49, 136, 190,   0,   0,   7,   9,  12,  15,\n",
       "         16,  13,  13,  16,  16,  24,   0,  48, 208, 102,  25,   0,   0,\n",
       "          0,   0],\n",
       "       [  0,   0,   0,   0,  45, 144, 163,   0,   0,   0,   0,   0,   0,\n",
       "          0,   0,   0,   0,   0,   0,   0,  15, 183, 115,  28,   0,   0,\n",
       "          0,   0],\n",
       "       [  0,   0,   0,   0,  33, 126,  36,   0,   3,   3,   0,   0,   0,\n",
       "          1,   0,   0,   0,   0,   0,   0,   0,  66,  76,  13,   0,   0,\n",
       "          0,   0]], dtype=uint8)"
      ]
     },
     "execution_count": 31,
     "metadata": {},
     "output_type": "execute_result"
    }
   ],
   "source": [
    "inputs = keras.Input(shape=(28,28,1))\n",
    "x = keras.layers.Conv2D(filters=20, padding='same',\n",
    "                                 kernel_size=(6,6), \n",
    "                                 activation='relu')(inputs)\n",
    "x = keras.layers.MaxPool2D(pool_size=(2, 2))(x)\n",
    "x = keras.layers.Lambda(tf.nn.local_response_normalization)(x)\n",
    "x = keras.layers.Conv2D(filters=50, padding='same',\n",
    "                                 kernel_size=(5,5),\n",
    "                                 activation='relu')(x)\n",
    "x = keras.layers.MaxPool2D(pool_size=(2, 2))(x)\n",
    "x = keras.layers.Lambda(tf.nn.local_response_normalization)(x)\n",
    "x = keras.layers.Conv2D(filters=100, padding='same',\n",
    "                                 kernel_size=(4,4),\n",
    "                                 activation='relu')(x)\n",
    "x = keras.layers.MaxPool2D(pool_size=(2, 2))(x)\n",
    "x = keras.layers.Lambda(tf.nn.local_response_normalization)(x)\n",
    "x = keras.layers.Conv2D(filters=200, padding='same',\n",
    "                                 kernel_size=(2,2), \n",
    "                                 activation='relu')(x)\n",
    "x = keras.layers.MaxPool2D(pool_size=(2, 2))(x)\n",
    "x = keras.layers.Flatten()(x)\n",
    "x = keras.layers.Dense(units=200, activation='relu')(x)\n",
    "x = keras.layers.Dropout(0.5)(x)\n",
    "x = keras.layers.Dense(units=50, activation='relu')(x)\n",
    "x = keras.layers.Dropout(0.5)(x)\n",
    "outputs = keras.layers.Dense(units=10, activation='softmax')(x)\n",
    "\n",
    "model = tf.keras.Model(inputs=inputs, outputs=outputs)\n",
    "model.compile(loss=keras.losses.SparseCategoricalCrossentropy(), metrics=['accuracy'])\n",
    "model.summary()"
   ]
  },
  {
   "cell_type": "code",
   "execution_count": null,
   "metadata": {},
   "outputs": [],
   "source": [
    "model.fit(x=X_train, y=y_train, \n",
    "          validation_data=(X_valid, y_valid), epochs=3)"
   ]
  },
  {
   "cell_type": "code",
   "execution_count": null,
   "metadata": {},
   "outputs": [],
   "source": []
  }
 ],
 "metadata": {
  "kernelspec": {
   "display_name": "Python 3",
   "language": "python",
   "name": "python3"
  },
  "language_info": {
   "codemirror_mode": {
    "name": "ipython",
    "version": 3
   },
   "file_extension": ".py",
   "mimetype": "text/x-python",
   "name": "python",
   "nbconvert_exporter": "python",
   "pygments_lexer": "ipython3",
   "version": "3.8.5"
  }
 },
 "nbformat": 4,
 "nbformat_minor": 4
}
